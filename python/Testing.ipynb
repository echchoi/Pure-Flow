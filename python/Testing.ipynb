{
 "cells": [
  {
   "cell_type": "code",
   "execution_count": null,
   "id": "4545fe51-01c8-4eb7-abd9-044fabf5248b",
   "metadata": {},
   "outputs": [],
   "source": [
    "import sys\n",
    "!{sys.executable} -m pip install langchain-community pypdf"
   ]
  },
  {
   "cell_type": "markdown",
   "id": "3d4f72f3-c98a-442f-be0c-d3c0bb6a6209",
   "metadata": {},
   "source": [
    "```python\n",
    "import sys\n",
    "!{sys.executable} -m pip install langchain-community pypdf\n",
    "```\n",
    "\n",
    "Don't try to call pip directly from the kernel, use the bioler plate above instead. This can make sure calling the pip from the right python environment."
   ]
  }
 ],
 "metadata": {
  "kernelspec": {
   "display_name": ".venv",
   "language": "python",
   "name": "python3"
  },
  "language_info": {
   "codemirror_mode": {
    "name": "ipython",
    "version": 3
   },
   "file_extension": ".py",
   "mimetype": "text/x-python",
   "name": "python",
   "nbconvert_exporter": "python",
   "pygments_lexer": "ipython3",
   "version": "3.12.9"
  }
 },
 "nbformat": 4,
 "nbformat_minor": 5
}
